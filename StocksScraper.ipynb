{
  "nbformat": 4,
  "nbformat_minor": 0,
  "metadata": {
    "colab": {
      "name": "StocksScraper.ipynb",
      "provenance": [],
      "authorship_tag": "ABX9TyMIWxMS1ybY4nM2jcO5knJ8",
      "include_colab_link": true
    },
    "kernelspec": {
      "name": "python3",
      "display_name": "Python 3"
    },
    "language_info": {
      "name": "python"
    }
  },
  "cells": [
    {
      "cell_type": "markdown",
      "metadata": {
        "id": "view-in-github",
        "colab_type": "text"
      },
      "source": [
        "<a href=\"https://colab.research.google.com/github/cgustin99/Data-Science/blob/main/StocksScraper.ipynb\" target=\"_parent\"><img src=\"https://colab.research.google.com/assets/colab-badge.svg\" alt=\"Open In Colab\"/></a>"
      ]
    },
    {
      "cell_type": "markdown",
      "metadata": {
        "id": "_Y7Nen_lCCFg"
      },
      "source": [
        "We make a bot to scrape stock data"
      ]
    },
    {
      "cell_type": "code",
      "metadata": {
        "id": "LvgfRoF_Hzmr"
      },
      "source": [
        "import pandas as pd\n",
        "import numpy as np\n",
        "import matplotlib.pyplot as plt\n",
        "import seaborn as sns\n",
        "import time\n",
        "import datetime\n",
        "from pytz import timezone\n",
        "from matplotlib.animation import FuncAnimation\n",
        "\n",
        "%matplotlib inline\n",
        "plt.rcParams[\"figure.figsize\"] = (17,10)"
      ],
      "execution_count": 57,
      "outputs": []
    },
    {
      "cell_type": "code",
      "metadata": {
        "id": "O2h5Ig2BMGYo",
        "colab": {
          "base_uri": "https://localhost:8080/"
        },
        "outputId": "a880036d-8af0-490a-bd0c-82aaf34da57c"
      },
      "source": [
        "!apt update\n",
        "!apt install chromium-chromedriver\n",
        "!pip install selenium\n",
        "\n",
        "from selenium import webdriver\n",
        "options = webdriver.ChromeOptions()\n",
        "options.add_argument('--headless')\n",
        "options.add_argument('--no-sandbox')\n",
        "options.add_argument('--disable-dev-shm-usage')\n",
        "\n",
        "driver = webdriver.Chrome('chromedriver',options=options)"
      ],
      "execution_count": 78,
      "outputs": [
        {
          "output_type": "stream",
          "text": [
            "\u001b[33m\r0% [Working]\u001b[0m\r            \rHit:1 https://cloud.r-project.org/bin/linux/ubuntu bionic-cran40/ InRelease\n",
            "\u001b[33m\r0% [Connecting to archive.ubuntu.com (91.189.88.142)] [Waiting for headers] [Co\u001b[0m\r                                                                               \rGet:2 http://security.ubuntu.com/ubuntu bionic-security InRelease [88.7 kB]\n",
            "\u001b[33m\r0% [Connecting to archive.ubuntu.com (91.189.88.142)] [2 InRelease 14.2 kB/88.7\u001b[0m\u001b[33m\r0% [1 InRelease gpgv 3,626 B] [Connecting to archive.ubuntu.com (91.189.88.142)\u001b[0m\u001b[33m\r0% [1 InRelease gpgv 3,626 B] [Connecting to archive.ubuntu.com (91.189.88.142)\u001b[0m\r                                                                               \rIgn:3 https://developer.download.nvidia.com/compute/cuda/repos/ubuntu1804/x86_64  InRelease\n",
            "\u001b[33m\r0% [1 InRelease gpgv 3,626 B] [Waiting for headers] [Waiting for headers] [Wait\u001b[0m\r                                                                               \rHit:4 http://ppa.launchpad.net/c2d4u.team/c2d4u4.0+/ubuntu bionic InRelease\n",
            "Hit:5 http://archive.ubuntu.com/ubuntu bionic InRelease\n",
            "Ign:6 https://developer.download.nvidia.com/compute/machine-learning/repos/ubuntu1804/x86_64  InRelease\n",
            "Hit:7 https://developer.download.nvidia.com/compute/cuda/repos/ubuntu1804/x86_64  Release\n",
            "Hit:8 https://developer.download.nvidia.com/compute/machine-learning/repos/ubuntu1804/x86_64  Release\n",
            "Get:9 http://archive.ubuntu.com/ubuntu bionic-updates InRelease [88.7 kB]\n",
            "Hit:10 http://ppa.launchpad.net/cran/libgit2/ubuntu bionic InRelease\n",
            "Hit:11 http://ppa.launchpad.net/deadsnakes/ppa/ubuntu bionic InRelease\n",
            "Get:12 http://archive.ubuntu.com/ubuntu bionic-backports InRelease [74.6 kB]\n",
            "Hit:13 http://ppa.launchpad.net/graphics-drivers/ppa/ubuntu bionic InRelease\n",
            "Fetched 252 kB in 2s (109 kB/s)\n",
            "Reading package lists... Done\n",
            "Building dependency tree       \n",
            "Reading state information... Done\n",
            "50 packages can be upgraded. Run 'apt list --upgradable' to see them.\n",
            "Reading package lists... Done\n",
            "Building dependency tree       \n",
            "Reading state information... Done\n",
            "chromium-chromedriver is already the newest version (91.0.4472.101-0ubuntu0.18.04.1).\n",
            "The following package was automatically installed and is no longer required:\n",
            "  libnvidia-common-460\n",
            "Use 'apt autoremove' to remove it.\n",
            "0 upgraded, 0 newly installed, 0 to remove and 50 not upgraded.\n",
            "Requirement already satisfied: selenium in /usr/local/lib/python3.7/dist-packages (3.141.0)\n",
            "Requirement already satisfied: urllib3 in /usr/local/lib/python3.7/dist-packages (from selenium) (1.24.3)\n"
          ],
          "name": "stdout"
        }
      ]
    },
    {
      "cell_type": "code",
      "metadata": {
        "colab": {
          "base_uri": "https://localhost:8080/",
          "height": 49
        },
        "id": "MVhhWEtdezHW",
        "outputId": "6c15146e-4ed1-4f0a-ab37-5d903ae8b78a"
      },
      "source": [
        "df = pd.DataFrame(columns = ['Company', 'Price', 'Change', '%Change'])\n",
        "df"
      ],
      "execution_count": 79,
      "outputs": [
        {
          "output_type": "execute_result",
          "data": {
            "text/html": [
              "<div>\n",
              "<style scoped>\n",
              "    .dataframe tbody tr th:only-of-type {\n",
              "        vertical-align: middle;\n",
              "    }\n",
              "\n",
              "    .dataframe tbody tr th {\n",
              "        vertical-align: top;\n",
              "    }\n",
              "\n",
              "    .dataframe thead th {\n",
              "        text-align: right;\n",
              "    }\n",
              "</style>\n",
              "<table border=\"1\" class=\"dataframe\">\n",
              "  <thead>\n",
              "    <tr style=\"text-align: right;\">\n",
              "      <th></th>\n",
              "      <th>Company</th>\n",
              "      <th>Price</th>\n",
              "      <th>Change</th>\n",
              "      <th>%Change</th>\n",
              "    </tr>\n",
              "  </thead>\n",
              "  <tbody>\n",
              "  </tbody>\n",
              "</table>\n",
              "</div>"
            ],
            "text/plain": [
              "Empty DataFrame\n",
              "Columns: [Company, Price, Change, %Change]\n",
              "Index: []"
            ]
          },
          "metadata": {
            "tags": []
          },
          "execution_count": 79
        }
      ]
    },
    {
      "cell_type": "code",
      "metadata": {
        "id": "zbXxyf9WMoUw"
      },
      "source": [
        "def get_stock_table():\n",
        "  url = 'https://money.cnn.com/data/hotstocks/index.html' \n",
        "  driver.get(url)\n",
        "\n",
        "  elements = driver.find_elements_by_xpath('//td')\n",
        "\n",
        "  current_data_row = []\n",
        "  num_rows = 0\n",
        "  for e in elements:\n",
        "    current_data_row.append(e.text)\n",
        "    if len(current_data_row) == 4:\n",
        "      df.loc[num_rows] = current_data_row\n",
        "      current_data_row = []\n",
        "      num_rows += 1\n",
        "\n",
        "  display(df)"
      ],
      "execution_count": 86,
      "outputs": []
    },
    {
      "cell_type": "code",
      "metadata": {
        "colab": {
          "base_uri": "https://localhost:8080/",
          "height": 979
        },
        "id": "7ysmec3XTSA4",
        "outputId": "685fa3ec-6e1b-4887-f136-79f96f3287fb"
      },
      "source": [
        "get_stock_table()"
      ],
      "execution_count": 89,
      "outputs": [
        {
          "output_type": "display_data",
          "data": {
            "text/html": [
              "<div>\n",
              "<style scoped>\n",
              "    .dataframe tbody tr th:only-of-type {\n",
              "        vertical-align: middle;\n",
              "    }\n",
              "\n",
              "    .dataframe tbody tr th {\n",
              "        vertical-align: top;\n",
              "    }\n",
              "\n",
              "    .dataframe thead th {\n",
              "        text-align: right;\n",
              "    }\n",
              "</style>\n",
              "<table border=\"1\" class=\"dataframe\">\n",
              "  <thead>\n",
              "    <tr style=\"text-align: right;\">\n",
              "      <th></th>\n",
              "      <th>Company</th>\n",
              "      <th>Price</th>\n",
              "      <th>Change</th>\n",
              "      <th>%Change</th>\n",
              "    </tr>\n",
              "  </thead>\n",
              "  <tbody>\n",
              "    <tr>\n",
              "      <th>0</th>\n",
              "      <td>NI NiSource Inc</td>\n",
              "      <td>25.47</td>\n",
              "      <td>0.00</td>\n",
              "      <td>0.00%</td>\n",
              "    </tr>\n",
              "    <tr>\n",
              "      <th>1</th>\n",
              "      <td>INFO IHS Markit Ltd</td>\n",
              "      <td>115.57</td>\n",
              "      <td>0.00</td>\n",
              "      <td>0.00%</td>\n",
              "    </tr>\n",
              "    <tr>\n",
              "      <th>2</th>\n",
              "      <td>CMS CMS Energy Corp</td>\n",
              "      <td>63.82</td>\n",
              "      <td>0.00</td>\n",
              "      <td>0.00%</td>\n",
              "    </tr>\n",
              "    <tr>\n",
              "      <th>3</th>\n",
              "      <td>FTV Fortive Corp</td>\n",
              "      <td>73.92</td>\n",
              "      <td>0.00</td>\n",
              "      <td>0.00%</td>\n",
              "    </tr>\n",
              "    <tr>\n",
              "      <th>4</th>\n",
              "      <td>ETR Entergy Corp</td>\n",
              "      <td>110.14</td>\n",
              "      <td>0.00</td>\n",
              "      <td>0.00%</td>\n",
              "    </tr>\n",
              "    <tr>\n",
              "      <th>5</th>\n",
              "      <td>F Ford Motor Co</td>\n",
              "      <td>12.84</td>\n",
              "      <td>-0.16</td>\n",
              "      <td>-1.23%</td>\n",
              "    </tr>\n",
              "    <tr>\n",
              "      <th>6</th>\n",
              "      <td>PFE Pfizer Inc</td>\n",
              "      <td>48.71</td>\n",
              "      <td>-0.61</td>\n",
              "      <td>-1.24%</td>\n",
              "    </tr>\n",
              "    <tr>\n",
              "      <th>7</th>\n",
              "      <td>STE Steris plc</td>\n",
              "      <td>216.28</td>\n",
              "      <td>0.00</td>\n",
              "      <td>0.00%</td>\n",
              "    </tr>\n",
              "    <tr>\n",
              "      <th>8</th>\n",
              "      <td>CCL Carnival Corp</td>\n",
              "      <td>22.48</td>\n",
              "      <td>0.00</td>\n",
              "      <td>0.00%</td>\n",
              "    </tr>\n",
              "    <tr>\n",
              "      <th>9</th>\n",
              "      <td>PKG Packaging Corp of America</td>\n",
              "      <td>145.05</td>\n",
              "      <td>0.00</td>\n",
              "      <td>0.00%</td>\n",
              "    </tr>\n",
              "    <tr>\n",
              "      <th>10</th>\n",
              "      <td>LOW Lowe's Companies Inc</td>\n",
              "      <td>199.73</td>\n",
              "      <td>+17.47</td>\n",
              "      <td>+9.59%</td>\n",
              "    </tr>\n",
              "    <tr>\n",
              "      <th>11</th>\n",
              "      <td>TJX TJX Companies Inc</td>\n",
              "      <td>73.00</td>\n",
              "      <td>+3.85</td>\n",
              "      <td>+5.57%</td>\n",
              "    </tr>\n",
              "    <tr>\n",
              "      <th>12</th>\n",
              "      <td>HWM Howmet Aerospace Inc</td>\n",
              "      <td>32.23</td>\n",
              "      <td>+0.75</td>\n",
              "      <td>+2.38%</td>\n",
              "    </tr>\n",
              "    <tr>\n",
              "      <th>13</th>\n",
              "      <td>CCL Carnival Corp</td>\n",
              "      <td>22.48</td>\n",
              "      <td>+0.44</td>\n",
              "      <td>+2.00%</td>\n",
              "    </tr>\n",
              "    <tr>\n",
              "      <th>14</th>\n",
              "      <td>MGM MGM Resorts International</td>\n",
              "      <td>38.64</td>\n",
              "      <td>+0.71</td>\n",
              "      <td>+1.87%</td>\n",
              "    </tr>\n",
              "    <tr>\n",
              "      <th>15</th>\n",
              "      <td>KR Kroger Co</td>\n",
              "      <td>46.49</td>\n",
              "      <td>+0.24</td>\n",
              "      <td>+0.52%</td>\n",
              "    </tr>\n",
              "    <tr>\n",
              "      <th>16</th>\n",
              "      <td>CRM Salesforce.Com Inc</td>\n",
              "      <td>251.22</td>\n",
              "      <td>+4.23</td>\n",
              "      <td>+1.71%</td>\n",
              "    </tr>\n",
              "    <tr>\n",
              "      <th>17</th>\n",
              "      <td>EIX Edison International</td>\n",
              "      <td>58.57</td>\n",
              "      <td>+0.98</td>\n",
              "      <td>+1.70%</td>\n",
              "    </tr>\n",
              "    <tr>\n",
              "      <th>18</th>\n",
              "      <td>RCL Royal Caribbean Cruises Ltd</td>\n",
              "      <td>77.21</td>\n",
              "      <td>+1.19</td>\n",
              "      <td>+1.57%</td>\n",
              "    </tr>\n",
              "    <tr>\n",
              "      <th>19</th>\n",
              "      <td>JNPR Juniper Networks Inc</td>\n",
              "      <td>28.83</td>\n",
              "      <td>+0.43</td>\n",
              "      <td>+1.51%</td>\n",
              "    </tr>\n",
              "    <tr>\n",
              "      <th>20</th>\n",
              "      <td>OGN Organon &amp; Co</td>\n",
              "      <td>33.59</td>\n",
              "      <td>-1.79</td>\n",
              "      <td>-5.06%</td>\n",
              "    </tr>\n",
              "    <tr>\n",
              "      <th>21</th>\n",
              "      <td>STE Steris plc</td>\n",
              "      <td>216.28</td>\n",
              "      <td>-9.54</td>\n",
              "      <td>-4.22%</td>\n",
              "    </tr>\n",
              "    <tr>\n",
              "      <th>22</th>\n",
              "      <td>CVX Chevron Corp</td>\n",
              "      <td>96.70</td>\n",
              "      <td>-4.03</td>\n",
              "      <td>-4.00%</td>\n",
              "    </tr>\n",
              "    <tr>\n",
              "      <th>23</th>\n",
              "      <td>LUMN Lumen Technologies Inc</td>\n",
              "      <td>11.61</td>\n",
              "      <td>-0.46</td>\n",
              "      <td>-3.81%</td>\n",
              "    </tr>\n",
              "    <tr>\n",
              "      <th>24</th>\n",
              "      <td>INFO IHS Markit Ltd</td>\n",
              "      <td>115.57</td>\n",
              "      <td>-4.31</td>\n",
              "      <td>-3.60%</td>\n",
              "    </tr>\n",
              "    <tr>\n",
              "      <th>25</th>\n",
              "      <td>NEM Newmont Corporation</td>\n",
              "      <td>56.91</td>\n",
              "      <td>-1.95</td>\n",
              "      <td>-3.31%</td>\n",
              "    </tr>\n",
              "    <tr>\n",
              "      <th>26</th>\n",
              "      <td>APD Air Products and Chemicals Inc</td>\n",
              "      <td>272.15</td>\n",
              "      <td>-9.26</td>\n",
              "      <td>-3.29%</td>\n",
              "    </tr>\n",
              "    <tr>\n",
              "      <th>27</th>\n",
              "      <td>SPGI S&amp;P Global Inc</td>\n",
              "      <td>430.00</td>\n",
              "      <td>-14.18</td>\n",
              "      <td>-3.19%</td>\n",
              "    </tr>\n",
              "    <tr>\n",
              "      <th>28</th>\n",
              "      <td>MSCI MSCI Inc</td>\n",
              "      <td>610.21</td>\n",
              "      <td>-19.27</td>\n",
              "      <td>-3.06%</td>\n",
              "    </tr>\n",
              "    <tr>\n",
              "      <th>29</th>\n",
              "      <td>MRO Marathon Oil Corp</td>\n",
              "      <td>11.14</td>\n",
              "      <td>-0.35</td>\n",
              "      <td>-3.05%</td>\n",
              "    </tr>\n",
              "  </tbody>\n",
              "</table>\n",
              "</div>"
            ],
            "text/plain": [
              "                               Company   Price  Change %Change\n",
              "0                      NI NiSource Inc   25.47    0.00   0.00%\n",
              "1                  INFO IHS Markit Ltd  115.57    0.00   0.00%\n",
              "2                  CMS CMS Energy Corp   63.82    0.00   0.00%\n",
              "3                     FTV Fortive Corp   73.92    0.00   0.00%\n",
              "4                     ETR Entergy Corp  110.14    0.00   0.00%\n",
              "5                      F Ford Motor Co   12.84   -0.16  -1.23%\n",
              "6                       PFE Pfizer Inc   48.71   -0.61  -1.24%\n",
              "7                       STE Steris plc  216.28    0.00   0.00%\n",
              "8                    CCL Carnival Corp   22.48    0.00   0.00%\n",
              "9        PKG Packaging Corp of America  145.05    0.00   0.00%\n",
              "10            LOW Lowe's Companies Inc  199.73  +17.47  +9.59%\n",
              "11               TJX TJX Companies Inc   73.00   +3.85  +5.57%\n",
              "12            HWM Howmet Aerospace Inc   32.23   +0.75  +2.38%\n",
              "13                   CCL Carnival Corp   22.48   +0.44  +2.00%\n",
              "14       MGM MGM Resorts International   38.64   +0.71  +1.87%\n",
              "15                        KR Kroger Co   46.49   +0.24  +0.52%\n",
              "16              CRM Salesforce.Com Inc  251.22   +4.23  +1.71%\n",
              "17            EIX Edison International   58.57   +0.98  +1.70%\n",
              "18     RCL Royal Caribbean Cruises Ltd   77.21   +1.19  +1.57%\n",
              "19           JNPR Juniper Networks Inc   28.83   +0.43  +1.51%\n",
              "20                    OGN Organon & Co   33.59   -1.79  -5.06%\n",
              "21                      STE Steris plc  216.28   -9.54  -4.22%\n",
              "22                    CVX Chevron Corp   96.70   -4.03  -4.00%\n",
              "23         LUMN Lumen Technologies Inc   11.61   -0.46  -3.81%\n",
              "24                 INFO IHS Markit Ltd  115.57   -4.31  -3.60%\n",
              "25             NEM Newmont Corporation   56.91   -1.95  -3.31%\n",
              "26  APD Air Products and Chemicals Inc  272.15   -9.26  -3.29%\n",
              "27                 SPGI S&P Global Inc  430.00  -14.18  -3.19%\n",
              "28                       MSCI MSCI Inc  610.21  -19.27  -3.06%\n",
              "29               MRO Marathon Oil Corp   11.14   -0.35  -3.05%"
            ]
          },
          "metadata": {
            "tags": []
          }
        }
      ]
    },
    {
      "cell_type": "markdown",
      "metadata": {
        "id": "A3Aw5zzqaRH4"
      },
      "source": [
        "Now, we will track and graph the stock prices of one stock for 5 minutes and see how they fluctuate. Let's use Pfizer's stock price."
      ]
    },
    {
      "cell_type": "code",
      "metadata": {
        "id": "9rT7s29z8c6W"
      },
      "source": [
        "#get_index(company) returns the index of the stock price from our td element\n",
        "def get_index(company):\n",
        "  for i, data in enumerate(driver.find_elements_by_xpath('//td')):\n",
        "    if data.text == company:\n",
        "        break\n",
        "  return i + 1 #Return i + 1 because i + 1 gives current stock price data while i gives the name of the company"
      ],
      "execution_count": 90,
      "outputs": []
    },
    {
      "cell_type": "code",
      "metadata": {
        "colab": {
          "base_uri": "https://localhost:8080/",
          "height": 650
        },
        "id": "bAk2eAqZxCQT",
        "outputId": "c409e646-5e73-42d3-e556-d8ff013c03b1"
      },
      "source": [
        "#Plot stock prices over a period of time\n",
        "num_minutes = 30\n",
        "num_seconds = 60 * num_minutes\n",
        "sample_frequency = 30 #Seconds between each sample\n",
        "\n",
        "ny = timezone('America/New_York')\n",
        "\n",
        "time_array = []\n",
        "data_array = []\n",
        "start_time = time.time()\n",
        "start_time_dt = datetime.datetime.now(ny).time()\n",
        "\n",
        "index = get_index('PFE Pfizer Inc')\n",
        "\n",
        "while True:\n",
        "  current_time = time.time()\n",
        "  elapsed = current_time - start_time\n",
        "\n",
        "  time_array.append(str(datetime.datetime.now(ny).time())[:8]) #[:8] so that we only take hr:min:sec from string\n",
        "  data_of_interest = [data.text for i, data in enumerate(driver.find_elements_by_xpath('//td')) if i == index]\n",
        "  data_array.append(float(data_of_interest[0]))\n",
        "\n",
        "  if elapsed > num_seconds:\n",
        "    break\n",
        "  \n",
        "  time.sleep(sample_frequency)\n",
        "\n",
        "plt.plot(time_array, data_array, 'b-' )\n",
        "plt.xticks(rotation = 45)\n",
        "plt.ylim(min(data_array) - 0.1, max(data_array) + 0.1)\n",
        "\n",
        "plt.ylabel(\"Current Price\")\n",
        "plt.xlabel(\"Time (EST)\")\n",
        "plt.title(\"Pfizer's Stock Price on \" + str(datetime.date.today().strftime(\"%m/%d/%Y\")) + \" from \" + str(start_time_dt)[:8] + \"EST to \" + str(datetime.datetime.now(ny).time())[:8] + \"EST\")\n",
        "plt.show()"
      ],
      "execution_count": 91,
      "outputs": [
        {
          "output_type": "display_data",
          "data": {
            "image/png": "[encoded data removed]",
            "text/plain": [
              "<Figure size 1224x720 with 1 Axes>"
            ]
          },
          "metadata": {
            "tags": [],
            "needs_background": "light"
          }
        }
      ]
    }
  ]
}